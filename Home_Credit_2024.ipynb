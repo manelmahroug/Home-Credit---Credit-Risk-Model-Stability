{
 "cells": [
  {
   "cell_type": "markdown",
   "id": "43520eb7",
   "metadata": {},
   "source": [
    "## Overview\n",
    "The goal of this competition is to predict which clients are more likely to default on their loans. </br>\n",
    "The evaluation will favor solutions that are stable over time.\n",
    "\n",
    "## Evaluation\n",
    "Submissions are evaluated using a gini stability metric. A gini score is calculated for predictions corresponding to each WEEK_NUM.\n",
    "\n",
    "gini = 2∗AUC−1\n",
    "\n",
    "## Dataset Description\n",
    "\n",
    "In this competition,the goal is to predict whether clients will defautl on their loans based on internal and external information that are available for each client. Scoring is performed using custom metric that not only evaluates the AUC of predictions but also considers the stability of predictions model across the data range of the test set. \n",
    "\n",
    "## Table Description\n",
    "</br>\n",
    "<div style=\"background-color: lightgrey; padding: 10px; border-radius: 5px;\">\n",
    "    <p>This dataset contains a large number of tables as a result of utilizing diverse data sources and the varying levels of data aggregation used while preparing the dataset.</p>\n",
    "</div>\n",
    "\n",
    "This dataset contains a large number of tables as a result of utilizing diverse data sources and the varying levels of data aggregation used while preparing the dataset.\n",
    "\n",
    "1. Base tables\n",
    "Base tables store the basic information about the observation and case_id. This is a unique identification of every observation and you need to use it to join the other tables to base tables.\n",
    "\n",
    "**Train Files:**\n",
    "train_base.csv\n",
    "\n",
    "**Test Files:**\n",
    "\n",
    "test_base.csv (Note, the hidden test_base.csv contains approximately 90% of the numbers of case_id values of train_base.csv)\n",
    "\n",
    "2. Depth = 0\n",
    "\n",
    "**static_0**\n",
    "Properties: depth=0, internal data source\n",
    "\n",
    "Train Files:\n",
    "\n",
    "train_static_0_0.csv\n",
    "train_static_0_1.csv\n",
    "\n",
    "Test Files:\n",
    "\n",
    "test_static_0_0.csv\n",
    "test_static_0_1.csv\n",
    "test_static_0_2.csv\n",
    "static_cb_0\n",
    "Properties: depth=0, external data source\n",
    "Train Files:\n",
    "\n",
    "train_static_cb_0.csv\n",
    "Test Files:\n",
    "\n",
    "test_static_cb_0.csv\n",
    "\n",
    "3. Depth 1:\n",
    "\n",
    "**applprev_1**\n",
    "Properties: depth=1, internal data source\n",
    "\n",
    "Train Files:\n",
    "\n",
    "train_applprev_1_0.csv\n",
    "train_applprev_1_1.csv\n",
    "\n",
    "Test Files:\n",
    "\n",
    "test_applprev_1_0.csv\n",
    "test_applprev_1_1.csv\n",
    "test_applprev_1_2.csv\n",
    "\n",
    "**other_1**\n",
    "Properties: depth=1, internal data source\n",
    "\n",
    "Train Files:\n",
    "\n",
    "train_other_1.csv\n",
    "Test Files:\n",
    "\n",
    "test_other_1.csv\n",
    "\n",
    "**tax_registry_a_1**\n",
    "Properties: depth=1, external data source, Tax registry provider A\n",
    "\n",
    "Train Files:\n",
    "\n",
    "train_tax_registry_a_1.csv\n",
    "Test Files:\n",
    "\n",
    "test_tax_registry_a_1.csv\n",
    "\n",
    "**tax_registry_b_1**\n",
    "Properties: depth=1, external data source, Tax registry provider B\n",
    "Train Files:\n",
    "\n",
    "train_tax_registry_b_1.csv\n",
    "Test Files:\n",
    "\n",
    "test_tax_registry_b_1.csv\n",
    "\n",
    "**tax_registry_c_1**\n",
    "Properties: depth=1, external data source, Tax registry provider C\n",
    "Train Files:\n",
    "\n",
    "train_tax_registry_c_1.csv\n",
    "Test Files:\n",
    "\n",
    "test_tax_registry_c_1.csv\n",
    "\n",
    "**credit_bureau_a_1**\n",
    "Properties: depth=1, external data source, Credit bureau provider A\n",
    "Train Files:\n",
    "\n",
    "train_credit_bureau_a_1_0.csv\n",
    "train_credit_bureau_a_1_1.csv\n",
    "train_credit_bureau_a_1_2.csv\n",
    "train_credit_bureau_a_1_3.csv\n",
    "Test Files:\n",
    "\n",
    "test_credit_bureau_a_1_0.csv\n",
    "test_credit_bureau_a_1_1.csv\n",
    "test_credit_bureau_a_1_2.csv\n",
    "test_credit_bureau_a_1_3.csv\n",
    "test_credit_bureau_a_1_4.csv\n",
    "\n",
    "**credit_bureau_b_1**\n",
    "Properties: depth=1, external data source, Credit bureau provider B\n",
    "Train Files:\n",
    "\n",
    "train_credit_bureau_b_1.csv\n",
    "Test files:\n",
    "\n",
    "test_credit_bureau_b_1.csv\n",
    "\n",
    "**deposit_1**\n",
    "Properties: depth=1, internal data source\n",
    "Train Files:\n",
    "\n",
    "train_deposit_1.csv\n",
    "Test Files:\n",
    "\n",
    "test_deposit_1.csv\n",
    "\n",
    "**person_1**\n",
    "Properties: depth=1, internal data source\n",
    "Train Files:\n",
    "\n",
    "train_person_1.csv\n",
    "Test Files:\n",
    "\n",
    "test_person_1.csv\n",
    "\n",
    "**debitcard_1**\n",
    "Properties: depth=1, internal data source\n",
    "\n",
    "Train Files:\n",
    "\n",
    "train_debitcard_1.csv\n",
    "Test Files:\n",
    "\n",
    "test_debitcard_1.csv\n",
    "\n",
    "**applprev_2**\n",
    "Properties: depth=2, internal data source\n",
    "\n",
    "Train Files:\n",
    "\n",
    "train_applprev_2.csv\n",
    "Test Files:\n",
    "\n",
    "test_applprev_2.csv\n",
    "\n",
    "**person_2**\n",
    "Properties: depth=2, internal data source\n",
    "Train Files:\n",
    "\n",
    "train_person_2.csv\n",
    "Test Files:\n",
    "\n",
    "test_person_2.csv\n",
    "\n",
    "**credit_bureau_a_2**\n",
    "Properties: depth=2, external data source, Credit bureau provider A\n",
    "\n",
    "Train Files:\n",
    "\n",
    "train_credit_bureau_a_2_0.csv\n",
    "train_credit_bureau_a_2_1.csv\n",
    "train_credit_bureau_a_2_2.csv\n",
    "train_credit_bureau_a_2_3.csv\n",
    "train_credit_bureau_a_2_4.csv\n",
    "train_credit_bureau_a_2_5.csv\n",
    "train_credit_bureau_a_2_6.csv\n",
    "train_credit_bureau_a_2_7.csv\n",
    "train_credit_bureau_a_2_8.csv\n",
    "train_credit_bureau_a_2_9.csv\n",
    "train_credit_bureau_a_2_10.csv\n",
    "Test Files:\n",
    "\n",
    "test_credit_bureau_a_2_0.csv\n",
    "test_credit_bureau_a_2_1.csv\n",
    "test_credit_bureau_a_2_2.csv\n",
    "test_credit_bureau_a_2_3.csv\n",
    "test_credit_bureau_a_2_4.csv\n",
    "test_credit_bureau_a_2_5.csv\n",
    "test_credit_bureau_a_2_6.csv\n",
    "test_credit_bureau_a_2_7.csv\n",
    "test_credit_bureau_a_2_8.csv\n",
    "test_credit_bureau_a_2_9.csv\n",
    "test_credit_bureau_a_2_10.csv\n",
    "test_credit_bureau_a_2_11.csv\n",
    "\n",
    "**credit_bureau_b_2**\n",
    "Properties: depth=2, external data source, Credit bureau provider B\n",
    "\n",
    "Train Files:\n",
    "\n",
    "train_credit_bureau_b_2.csv\n",
    "Test Files:\n",
    "\n",
    "test_credit_bureau_b_2.csv\n",
    "\n",
    "Each group of tables can comprise one or more individual tables. If a group contains more than one table, they are divided based on WEEK_NUM. This division was implemented to restrict the maximum size of the tables.\n",
    "\n",
    "**Depth values:**\n",
    "\n",
    "depth=0 - These are static features directly tied to a specific case_id.\n",
    "depth=1 - Each case_id has an associated historical record, indexed by num_group1.\n",
    "depth=2 - Each case_id has an associated historical record, indexed by both num_group1 and num_group2.\n",
    "\n",
    "\n",
    "\n",
    "### Columns\n",
    "\n",
    "#### Special columns:\n",
    "\n",
    "**case_id** - This is the unique identifier for each credit case. You'll need this ID to join relevant tables to the base table.\n",
    "\n",
    "**date_decision** - This refers to the date when a decision was made regarding the approval of the loan.</br>\n",
    "**WEEK_NUM** - This is the week number used for aggregation. In the test sample, WEEK_NUM continues sequentially from the last training value of WEEK_NUM.</br>\n",
    "**MONTH** - This column represents the month and is intended for aggregation purposes.</br>\n",
    "**target** - This is the target value, determined after a certain period based on whether or not the client defaulted on the specific credit case (loan).</br>\n",
    "**num_group1** - This is an indexing column used for the historical records of case_id in both depth=1 and depth=2 tables.</br>\n",
    "**num_group2** - This is the second indexing column for depth=2 tables' historical records of case_id. The order of num_group1 and num_group2 is important and will be clarified in feature definitions.</br>\n",
    "\n",
    "All other raw columns in the tables serve as predictors. Their definitions can be found in the file feature_definitions.csv. \n",
    "\n",
    "For depth=0 tables, predictors can be directly used as features. However, for tables with depth>0, aggregations need to be employed to condense the historical records associated with each case_id into a single feature. In case num_group1 or num_group2 stands for person index (this is clear with predictor definitions) the zero index has special meaning. When num_groupN=0 it is the applicant (the person who applied for a loan).\n",
    "\n",
    "Various predictors were transformed, the following notation for similar groups of transformations\n",
    "\n",
    "P - Transform DPD (Days past due)\n",
    "M - Masking categories\n",
    "A - Transform amount\n",
    "D - Transform date\n",
    "T - Unspecified Transform\n",
    "L - Unspecified Transform\n",
    "\n",
    "\n",
    "Edits:</br>\n",
    "\n",
    "pmts_month_158T is for active contract\n",
    "pmts_month_706T is for closed contract\n",
    "dateofcredstart_181D - Start date of a credit contract."
   ]
  },
  {
   "cell_type": "code",
   "execution_count": 100,
   "id": "da8749d3",
   "metadata": {},
   "outputs": [],
   "source": [
    "import sys\n",
    "from pathlib import Path\n",
    "import subprocess\n",
    "import os\n",
    "import gc\n",
    "from glob import glob\n",
    "\n",
    "import numpy as np\n",
    "import pandas as pd\n",
    "import polars as pl\n",
    "from datetime import datetime\n",
    "import seaborn as sns\n",
    "import matplotlib.pyplot as plt\n",
    "\n",
    "\n",
    "import warnings\n",
    "warnings.filterwarnings('ignore')\n",
    "from IPython.core.interactiveshell import InteractiveShell\n",
    "InteractiveShell.ast_node_interactivity = \"all\""
   ]
  },
  {
   "cell_type": "code",
   "execution_count": 101,
   "id": "101e22f3",
   "metadata": {},
   "outputs": [],
   "source": [
    "from sklearn.model_selection import TimeSeriesSplit, GroupKFold, StratifiedGroupKFold\n",
    "from sklearn.base import BaseEstimator, RegressorMixin\n",
    "from sklearn.metrics import roc_auc_score\n",
    "import lightgbm as lgb\n",
    "\n",
    "from imblearn.over_sampling import SMOTE\n",
    "from sklearn.preprocessing import OrdinalEncoder\n",
    "from sklearn.impute import KNNImputer\n"
   ]
  },
  {
   "cell_type": "markdown",
   "id": "47f7953a",
   "metadata": {},
   "source": [
    "## Understanding the Problem\n",
    "\n",
    "The first step in our approach is to fully understand the problem. What we're trying to do is to create a machine learning model that classifies each customer into \"likely to default\" or \"not likely to default\". The added challenge here is building a model that is stable over time. \n",
    "\n",
    "\n",
    "## Understanding the Data\n",
    "\n",
    "- What kind of historical data is available for each customer? \n",
    "- How much missing data do we have? How are we going to deal with it? Impute? Remove?\n",
    "- What are the data types we're working with? What's the ideal encoding for categorical data?\n",
    "- What's the ratio of positive cases (defaults) to negative cases(non-defaults)?\n",
    "- Are there any outliers in the data?\n",
    "\n",
    "## Manipulating the Data\n",
    "\n",
    "To enhance model performance, we might need to engineer some features from preexisting ones. Some ideas include: income to debt ratio, credit utilization rate..etc\n",
    "In addition, we might need to perform some aggregations or summaries of certain features, as well as scaling\n",
    "\n",
    "## Model Selection\n",
    "\n",
    "Before selecting advanced models like XGBoost or SVM, starting with a baseline model like logistic regression could prove helpful\n",
    "\n",
    "## Model Evaluation\n",
    "\n",
    "In addition to the custom metric used in the competition, it would helpful to examine some of the more traditional evaluation metrics such as Precision-Recall AUC. It is also important to examine features that have high predictive power to understand what key factors influence decision"
   ]
  },
  {
   "cell_type": "code",
   "execution_count": 102,
   "id": "99ef4d19",
   "metadata": {},
   "outputs": [
    {
     "name": "stdout",
     "output_type": "stream",
     "text": [
      "\u001b[01;34mdata\u001b[0m\r\n",
      "└── \u001b[01;34mparquet_files\u001b[0m\r\n",
      "    ├── \u001b[01;34mtest\u001b[0m\r\n",
      "    └── \u001b[01;34mtrain\u001b[0m\r\n",
      "\r\n",
      "4 directories\r\n"
     ]
    }
   ],
   "source": [
    "!tree 'data' -d "
   ]
  },
  {
   "cell_type": "markdown",
   "id": "d031f6c5",
   "metadata": {},
   "source": [
    "### Exploring files"
   ]
  },
  {
   "cell_type": "code",
   "execution_count": 103,
   "id": "2b324933",
   "metadata": {},
   "outputs": [
    {
     "data": {
      "text/html": [
       "<div>\n",
       "<style scoped>\n",
       "    .dataframe tbody tr th:only-of-type {\n",
       "        vertical-align: middle;\n",
       "    }\n",
       "\n",
       "    .dataframe tbody tr th {\n",
       "        vertical-align: top;\n",
       "    }\n",
       "\n",
       "    .dataframe thead th {\n",
       "        text-align: right;\n",
       "    }\n",
       "</style>\n",
       "<table border=\"1\" class=\"dataframe\">\n",
       "  <thead>\n",
       "    <tr style=\"text-align: right;\">\n",
       "      <th></th>\n",
       "      <th>case_id</th>\n",
       "      <th>date_decision</th>\n",
       "      <th>MONTH</th>\n",
       "      <th>WEEK_NUM</th>\n",
       "      <th>target</th>\n",
       "    </tr>\n",
       "  </thead>\n",
       "  <tbody>\n",
       "    <tr>\n",
       "      <th>0</th>\n",
       "      <td>0</td>\n",
       "      <td>2019-01-03</td>\n",
       "      <td>201901</td>\n",
       "      <td>0</td>\n",
       "      <td>0</td>\n",
       "    </tr>\n",
       "    <tr>\n",
       "      <th>1</th>\n",
       "      <td>1</td>\n",
       "      <td>2019-01-03</td>\n",
       "      <td>201901</td>\n",
       "      <td>0</td>\n",
       "      <td>0</td>\n",
       "    </tr>\n",
       "    <tr>\n",
       "      <th>2</th>\n",
       "      <td>2</td>\n",
       "      <td>2019-01-04</td>\n",
       "      <td>201901</td>\n",
       "      <td>0</td>\n",
       "      <td>0</td>\n",
       "    </tr>\n",
       "    <tr>\n",
       "      <th>3</th>\n",
       "      <td>3</td>\n",
       "      <td>2019-01-03</td>\n",
       "      <td>201901</td>\n",
       "      <td>0</td>\n",
       "      <td>0</td>\n",
       "    </tr>\n",
       "    <tr>\n",
       "      <th>4</th>\n",
       "      <td>4</td>\n",
       "      <td>2019-01-04</td>\n",
       "      <td>201901</td>\n",
       "      <td>0</td>\n",
       "      <td>1</td>\n",
       "    </tr>\n",
       "  </tbody>\n",
       "</table>\n",
       "</div>"
      ],
      "text/plain": [
       "   case_id date_decision   MONTH  WEEK_NUM  target\n",
       "0        0    2019-01-03  201901         0       0\n",
       "1        1    2019-01-03  201901         0       0\n",
       "2        2    2019-01-04  201901         0       0\n",
       "3        3    2019-01-03  201901         0       0\n",
       "4        4    2019-01-04  201901         0       1"
      ]
     },
     "execution_count": 103,
     "metadata": {},
     "output_type": "execute_result"
    },
    {
     "data": {
      "text/html": [
       "<div>\n",
       "<style scoped>\n",
       "    .dataframe tbody tr th:only-of-type {\n",
       "        vertical-align: middle;\n",
       "    }\n",
       "\n",
       "    .dataframe tbody tr th {\n",
       "        vertical-align: top;\n",
       "    }\n",
       "\n",
       "    .dataframe thead th {\n",
       "        text-align: right;\n",
       "    }\n",
       "</style>\n",
       "<table border=\"1\" class=\"dataframe\">\n",
       "  <thead>\n",
       "    <tr style=\"text-align: right;\">\n",
       "      <th></th>\n",
       "      <th>case_id</th>\n",
       "      <th>date_decision</th>\n",
       "      <th>MONTH</th>\n",
       "      <th>WEEK_NUM</th>\n",
       "    </tr>\n",
       "  </thead>\n",
       "  <tbody>\n",
       "    <tr>\n",
       "      <th>0</th>\n",
       "      <td>57543</td>\n",
       "      <td>2021-05-14</td>\n",
       "      <td>202201</td>\n",
       "      <td>100</td>\n",
       "    </tr>\n",
       "    <tr>\n",
       "      <th>1</th>\n",
       "      <td>57549</td>\n",
       "      <td>2022-01-17</td>\n",
       "      <td>202201</td>\n",
       "      <td>100</td>\n",
       "    </tr>\n",
       "    <tr>\n",
       "      <th>2</th>\n",
       "      <td>57551</td>\n",
       "      <td>2020-11-27</td>\n",
       "      <td>202201</td>\n",
       "      <td>100</td>\n",
       "    </tr>\n",
       "    <tr>\n",
       "      <th>3</th>\n",
       "      <td>57552</td>\n",
       "      <td>2020-11-27</td>\n",
       "      <td>202201</td>\n",
       "      <td>100</td>\n",
       "    </tr>\n",
       "    <tr>\n",
       "      <th>4</th>\n",
       "      <td>57569</td>\n",
       "      <td>2021-12-20</td>\n",
       "      <td>202201</td>\n",
       "      <td>100</td>\n",
       "    </tr>\n",
       "  </tbody>\n",
       "</table>\n",
       "</div>"
      ],
      "text/plain": [
       "   case_id date_decision   MONTH  WEEK_NUM\n",
       "0    57543    2021-05-14  202201       100\n",
       "1    57549    2022-01-17  202201       100\n",
       "2    57551    2020-11-27  202201       100\n",
       "3    57552    2020-11-27  202201       100\n",
       "4    57569    2021-12-20  202201       100"
      ]
     },
     "execution_count": 103,
     "metadata": {},
     "output_type": "execute_result"
    }
   ],
   "source": [
    "ROOT= 'data/parquet_files/'\n",
    "base_train= pd.read_parquet(ROOT+'train/train_base.parquet')\n",
    "base_test= pd.read_parquet(ROOT+'test/test_base.parquet')\n",
    "\n",
    "base_train.head()\n",
    "base_test.head()"
   ]
  },
  {
   "cell_type": "code",
   "execution_count": 104,
   "id": "99b9877b",
   "metadata": {},
   "outputs": [],
   "source": [
    "def extract_min_max_dates(df, date_column):\n",
    "    \"\"\"\n",
    "    Extracts the minimum and maximum dates from a date_decision in the DataFrame.\n",
    "\n",
    "    Parameters:\n",
    "    df (pd.DataFrame): The DataFrame containing the date column.\n",
    "    date_column (str): The name of the date column.\n",
    "\n",
    "    Returns:\n",
    "    tuple: A tuple containing the minimum and maximum dates.\n",
    "    \"\"\"\n",
    "    # Ensure the date column is in datetime format\n",
    "    df[date_column] = pd.to_datetime(df[date_column])\n",
    "\n",
    "    # Extract minimum and maximum dates\n",
    "    min_date = df[date_column].dt.date.min()\n",
    "    max_date = df[date_column].dt.date.max()\n",
    "    \n",
    "    # Calculate the range of dates\n",
    "    date_range = max_date - min_date\n",
    "    \n",
    "    #number of unique dates\n",
    "    len_uniq_dates = len(df[date_column].unique())\n",
    "\n",
    "    return min_date, max_date, date_range, len_uniq_dates"
   ]
  },
  {
   "cell_type": "code",
   "execution_count": 105,
   "id": "e97ef547",
   "metadata": {},
   "outputs": [
    {
     "name": "stdout",
     "output_type": "stream",
     "text": [
      "The start date in the training data is 2019-01-01 AND the end date is 2020-10-05\n",
      "The date range in the training data is 643 days, 0:00:00\n",
      "There are 644 unique dates in the training data \n",
      "\n",
      "The start date in the test data is 2020-11-27 AND the end date is 2022-06-04\n",
      "The date range in the test data is 554 days, 0:00:00\n",
      "There are 9 unique dates in the test data \n"
     ]
    }
   ],
   "source": [
    "train_dates= extract_min_max_dates(base_train, 'date_decision')\n",
    "test_dates= extract_min_max_dates(base_test, 'date_decision')\n",
    "\n",
    "print(\"The start date in the training data is \" + str(train_dates[0]), \"AND the end date is \"+ str(train_dates[1]))\n",
    "print(\"The date range in the training data is \"+ str(train_dates[2]))\n",
    "print(\"There are {} unique dates in the training data \".format(train_dates[3]),end=\"\\n\\n\") \n",
    "print(\"The start date in the test data is \" + str(test_dates[0]), \"AND the end date is \"+ str(test_dates[1]))\n",
    "print(\"The date range in the test data is \"+ str(test_dates[2]))\n",
    "print(\"There are {} unique dates in the test data \".format(test_dates[3]))"
   ]
  },
  {
   "cell_type": "code",
   "execution_count": 94,
   "id": "ed2248f8",
   "metadata": {},
   "outputs": [
    {
     "data": {
      "text/plain": [
       "<Figure size 600x300 with 0 Axes>"
      ]
     },
     "execution_count": 94,
     "metadata": {},
     "output_type": "execute_result"
    },
    {
     "data": {
      "text/plain": [
       "Text(0.5, 1.0, 'Count of Customers by Loan Default Status')"
      ]
     },
     "execution_count": 94,
     "metadata": {},
     "output_type": "execute_result"
    },
    {
     "data": {
      "text/plain": [
       "Text(0.5, 0, 'Count')"
      ]
     },
     "execution_count": 94,
     "metadata": {},
     "output_type": "execute_result"
    },
    {
     "data": {
      "text/plain": [
       "Text(0, 0.5, 'Target')"
      ]
     },
     "execution_count": 94,
     "metadata": {},
     "output_type": "execute_result"
    },
    {
     "data": {
      "text/plain": [
       "([<matplotlib.axis.YTick at 0x111b61ea0>,\n",
       "  <matplotlib.axis.YTick at 0x111b61840>],\n",
       " [Text(0, 0, 'Did Not Default'), Text(0, 1, 'Defaulted')])"
      ]
     },
     "execution_count": 94,
     "metadata": {},
     "output_type": "execute_result"
    },
    {
     "data": {
      "image/png": "[encoded data removed]",
      "text/plain": [
       "<Figure size 600x300 with 1 Axes>"
      ]
     },
     "metadata": {},
     "output_type": "display_data"
    }
   ],
   "source": [
    "# Count the number of occurrences of each target\n",
    "class_counts = base_train['target'].value_counts()\n",
    "\n",
    "# Create a horizontal bar plot\n",
    "plt.figure(figsize=(6, 3))\n",
    "colors= ['lightgrey','red']\n",
    "ax= sns.countplot(y='target', data=base_train, palette= colors)\n",
    "\n",
    "# Adjust bar width\n",
    "for p in ax.patches:\n",
    "    height = p.get_height()\n",
    "    p.set_height(height * 0.7)  # Reduce bar height by half\n",
    "\n",
    "plt.title('Count of Customers by Loan Default Status')\n",
    "plt.xlabel('Count')\n",
    "plt.ylabel('Target')\n",
    "plt.yticks([0, 1], ['Did Not Default', 'Defaulted'])\n",
    "plt.show()"
   ]
  },
  {
   "cell_type": "code",
   "execution_count": 106,
   "id": "9ed3a9fc",
   "metadata": {},
   "outputs": [],
   "source": [
    "base_train_copy= base_train.copy()"
   ]
  },
  {
   "cell_type": "code",
   "execution_count": 107,
   "id": "d9750cd3",
   "metadata": {},
   "outputs": [
    {
     "data": {
      "image/png": "[encoded data removed]",
      "text/plain": [
       "<Figure size 1500x500 with 1 Axes>"
      ]
     },
     "metadata": {},
     "output_type": "display_data"
    },
    {
     "data": {
      "image/png": "[encoded data removed]",
      "text/plain": [
       "<Figure size 1500x500 with 1 Axes>"
      ]
     },
     "metadata": {},
     "output_type": "display_data"
    },
    {
     "data": {
      "image/png": "[encoded data removed]",
      "text/plain": [
       "<Figure size 1500x500 with 1 Axes>"
      ]
     },
     "metadata": {},
     "output_type": "display_data"
    },
    {
     "data": {
      "image/png": "[encoded data removed]",
      "text/plain": [
       "<Figure size 1500x500 with 1 Axes>"
      ]
     },
     "metadata": {},
     "output_type": "display_data"
    }
   ],
   "source": [
    "def plot_date_components_histogram_seaborn(df, component):\n",
    "    fig = plt.figure(figsize=(15, 5))\n",
    "    sns.histplot(data=df, x=component, bins=30, multiple=\"stack\", kde=False, hue='target',\n",
    "                 palette=['#d3d3d3', '#EC0010'])\n",
    "    plt.title(f'{component.capitalize()} Distribution')\n",
    "    plt.xlabel(component.capitalize())\n",
    "    plt.ylabel('Frequency')\n",
    "    plt.show()\n",
    "\n",
    "# train['year'] = train.date_decision.dt.year-2019\n",
    "base_train_copy['month'] = base_train_copy.date_decision.dt.month\n",
    "base_train_copy['day_of_year'] = base_train_copy.date_decision.dt.day_of_year\n",
    "base_train_copy['day_of_week'] = base_train_copy.date_decision.dt.day_of_week\n",
    "\n",
    "\n",
    "plot_date_components_histogram_seaborn(base_train_copy, 'date_decision')\n",
    "plot_date_components_histogram_seaborn(base_train_copy, 'month')\n",
    "plot_date_components_histogram_seaborn(base_train_copy, 'day_of_year')\n",
    "plot_date_components_histogram_seaborn(base_train_copy, 'day_of_week')"
   ]
  },
  {
   "cell_type": "code",
   "execution_count": 108,
   "id": "b2fc4ccf",
   "metadata": {},
   "outputs": [
    {
     "data": {
      "text/plain": [
       "case_id          0\n",
       "date_decision    0\n",
       "MONTH            0\n",
       "WEEK_NUM         0\n",
       "target           0\n",
       "dtype: int64"
      ]
     },
     "execution_count": 108,
     "metadata": {},
     "output_type": "execute_result"
    }
   ],
   "source": [
    "base_train.isnull().sum()"
   ]
  },
  {
   "cell_type": "markdown",
   "id": "745904cc",
   "metadata": {},
   "source": [
    "Looks like there are no null values in the base train dataframe. Now, let's examine the internal and external files with depths 0 and 1"
   ]
  },
  {
   "cell_type": "code",
   "execution_count": 131,
   "id": "da33a569",
   "metadata": {},
   "outputs": [],
   "source": [
    "train = 'data/parquet_files/train/'\n",
    "test = 'data/parquet_files/test/'\n",
    "\n",
    "def list_files(directory):\n",
    "    # Walk through the directory and list files\n",
    "    for root, dirs, files in os.walk(directory):\n",
    "        for file in files:\n",
    "            print (os.path.join(root, file))"
   ]
  },
  {
   "cell_type": "code",
   "execution_count": 132,
   "id": "5eaf543b",
   "metadata": {},
   "outputs": [
    {
     "name": "stdout",
     "output_type": "stream",
     "text": [
      "data/parquet_files/train/train_person_2.parquet\n",
      "data/parquet_files/train/train_applprev_2.parquet\n",
      "data/parquet_files/train/train_credit_bureau_a_1_0.parquet\n",
      "data/parquet_files/train/train_static_0_0.parquet\n",
      "data/parquet_files/train/train_credit_bureau_a_2_4.parquet\n",
      "data/parquet_files/train/train_other_1.parquet\n",
      "data/parquet_files/train/train_credit_bureau_a_1_1.parquet\n",
      "data/parquet_files/train/train_static_0_1.parquet\n",
      "data/parquet_files/train/train_credit_bureau_a_2_5.parquet\n",
      "data/parquet_files/train/train_tax_registry_c_1.parquet\n",
      "data/parquet_files/train/train_credit_bureau_b_2.parquet\n",
      "data/parquet_files/train/train_base.parquet\n",
      "data/parquet_files/train/train_credit_bureau_a_2_10.parquet\n",
      "data/parquet_files/train/train_credit_bureau_a_2_7.parquet\n",
      "data/parquet_files/train/train_credit_bureau_a_1_3.parquet\n",
      "data/parquet_files/train/train_person_1.parquet\n",
      "data/parquet_files/train/train_credit_bureau_b_1.parquet\n",
      "data/parquet_files/train/train_tax_registry_b_1.parquet\n",
      "data/parquet_files/train/train_credit_bureau_a_2_6.parquet\n",
      "data/parquet_files/train/train_credit_bureau_a_1_2.parquet\n",
      "data/parquet_files/train/train_credit_bureau_a_2_3.parquet\n",
      "data/parquet_files/train/train_debitcard_1.parquet\n",
      "data/parquet_files/train/train_static_cb_0.parquet\n",
      "data/parquet_files/train/train_applprev_1_0.parquet\n",
      "data/parquet_files/train/train_applprev_1_1.parquet\n",
      "data/parquet_files/train/train_credit_bureau_a_2_2.parquet\n",
      "data/parquet_files/train/train_tax_registry_a_1.parquet\n",
      "data/parquet_files/train/train_credit_bureau_a_2_9.parquet\n",
      "data/parquet_files/train/train_deposit_1.parquet\n",
      "data/parquet_files/train/train_credit_bureau_a_2_0.parquet\n",
      "data/parquet_files/train/train_credit_bureau_a_2_1.parquet\n",
      "data/parquet_files/train/train_credit_bureau_a_2_8.parquet\n"
     ]
    }
   ],
   "source": [
    "train_files= list_files(train)"
   ]
  },
  {
   "cell_type": "code",
   "execution_count": 133,
   "id": "2e570ca4",
   "metadata": {},
   "outputs": [
    {
     "name": "stdout",
     "output_type": "stream",
     "text": [
      "data/parquet_files/test/test_credit_bureau_a_2_2.parquet\n",
      "data/parquet_files/test/test_applprev_1_2.parquet\n",
      "data/parquet_files/test/test_static_0_2.parquet\n",
      "data/parquet_files/test/test_credit_bureau_a_2_3.parquet\n",
      "data/parquet_files/test/test_credit_bureau_a_2_10.parquet\n",
      "data/parquet_files/test/test_credit_bureau_a_2_8.parquet\n",
      "data/parquet_files/test/test_applprev_2.parquet\n",
      "data/parquet_files/test/test_applprev_1_0.parquet\n",
      "data/parquet_files/test/test_credit_bureau_a_2_1.parquet\n",
      "data/parquet_files/test/test_static_0_0.parquet\n",
      "data/parquet_files/test/test_credit_bureau_a_2_0.parquet\n",
      "data/parquet_files/test/test_credit_bureau_a_1_4.parquet\n",
      "data/parquet_files/test/test_static_0_1.parquet\n",
      "data/parquet_files/test/test_tax_registry_a_1.parquet\n",
      "data/parquet_files/test/test_credit_bureau_a_2_11.parquet\n",
      "data/parquet_files/test/test_credit_bureau_a_2_9.parquet\n",
      "data/parquet_files/test/test_applprev_1_1.parquet\n",
      "data/parquet_files/test/test_person_2.parquet\n",
      "data/parquet_files/test/test_credit_bureau_a_2_5.parquet\n",
      "data/parquet_files/test/test_credit_bureau_a_1_1.parquet\n",
      "data/parquet_files/test/test_credit_bureau_b_1.parquet\n",
      "data/parquet_files/test/test_tax_registry_b_1.parquet\n",
      "data/parquet_files/test/test_deposit_1.parquet\n",
      "data/parquet_files/test/test_credit_bureau_a_2_4.parquet\n",
      "data/parquet_files/test/test_credit_bureau_a_1_0.parquet\n",
      "data/parquet_files/test/test_other_1.parquet\n",
      "data/parquet_files/test/test_credit_bureau_b_2.parquet\n",
      "data/parquet_files/test/test_credit_bureau_a_1_2.parquet\n",
      "data/parquet_files/test/test_debitcard_1.parquet\n",
      "data/parquet_files/test/test_credit_bureau_a_2_6.parquet\n",
      "data/parquet_files/test/test_static_cb_0.parquet\n",
      "data/parquet_files/test/test_person_1.parquet\n",
      "data/parquet_files/test/test_base.parquet\n",
      "data/parquet_files/test/test_tax_registry_c_1.parquet\n",
      "data/parquet_files/test/test_credit_bureau_a_1_3.parquet\n",
      "data/parquet_files/test/test_credit_bureau_a_2_7.parquet\n"
     ]
    }
   ],
   "source": [
    "test_files= list_files(test)"
   ]
  },
  {
   "cell_type": "markdown",
   "id": "f9048739",
   "metadata": {},
   "source": [
    "### Depth 0"
   ]
  },
  {
   "cell_type": "code",
   "execution_count": 134,
   "id": "ec210110",
   "metadata": {},
   "outputs": [],
   "source": [
    "static_0_train= pl.read_parquet('data/parquet_files/train/train_static_0_0.parquet')\n",
    "static_0_1_train= pl.read_parquet('data/parquet_files/train/train_static_0_1.parquet')\n",
    "\n",
    "test_static_0_0= pl.read_parquet('data/parquet_files/test/test_static_0_0.parquet')\n",
    "test_static_0_1= pl.read_parquet('data/parquet_files/test/test_static_0_1.parquet')\n",
    "test_static_0_2=pl.read_parquet('data/parquet_files/test/test_static_0_2.parquet')"
   ]
  },
  {
   "cell_type": "code",
   "execution_count": null,
   "id": "15b57b5b",
   "metadata": {},
   "outputs": [],
   "source": []
  }
 ],
 "metadata": {
  "kernelspec": {
   "display_name": "Python 3 (ipykernel)",
   "language": "python",
   "name": "python3"
  },
  "language_info": {
   "codemirror_mode": {
    "name": "ipython",
    "version": 3
   },
   "file_extension": ".py",
   "mimetype": "text/x-python",
   "name": "python",
   "nbconvert_exporter": "python",
   "pygments_lexer": "ipython3",
   "version": "3.10.9"
  }
 },
 "nbformat": 4,
 "nbformat_minor": 5
}
